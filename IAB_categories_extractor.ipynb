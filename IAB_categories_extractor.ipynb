{
 "cells": [
  {
   "cell_type": "markdown",
   "id": "e29d49d0",
   "metadata": {},
   "source": [
    "# Imports and API Connections"
   ]
  },
  {
   "cell_type": "code",
   "execution_count": 62,
   "id": "0426040d-fa1d-4d67-b976-98e9a0d38f0d",
   "metadata": {},
   "outputs": [],
   "source": [
    "# ! pip install openai requests bs4 google-generativeai python-dotenv"
   ]
  },
  {
   "cell_type": "code",
   "execution_count": 3,
   "id": "90ef200c-bc5f-41b6-9763-97ffd7d86ac8",
   "metadata": {},
   "outputs": [],
   "source": [
    "from openai import OpenAI\n",
    "import requests\n",
    "from bs4 import BeautifulSoup\n",
    "import os\n",
    "import pandas as pd"
   ]
  },
  {
   "cell_type": "code",
   "execution_count": 4,
   "id": "efad6d5c",
   "metadata": {},
   "outputs": [],
   "source": [
    "from dotenv import load_dotenv\n",
    "import google.generativeai as genai"
   ]
  },
  {
   "cell_type": "code",
   "execution_count": null,
   "id": "b139efe6",
   "metadata": {},
   "outputs": [],
   "source": [
    "from dotenv import load_dotenv\n",
    "load_dotenv()\n",
    "\n",
    "# Use the key from environment\n",
    "api_key = os.getenv(\"OPENAI_API_KEY\")\n",
    "client = OpenAI(api_key=api_key)"
   ]
  },
  {
   "cell_type": "code",
   "execution_count": null,
   "id": "e88f35a2",
   "metadata": {},
   "outputs": [],
   "source": [
    "genai.configure(api_key=\"GEMINI_API_KEY\")\n",
    "model = genai.GenerativeModel(\"models/gemini-2.0-flash\")"
   ]
  },
  {
   "cell_type": "markdown",
   "id": "1d0cb4f5",
   "metadata": {},
   "source": [
    "# Getting Taxonomy"
   ]
  },
  {
   "cell_type": "code",
   "execution_count": 5,
   "id": "fe4954f6-614c-448d-8065-606d877c21ca",
   "metadata": {},
   "outputs": [],
   "source": [
    "taxonomy_path = \"/Users/daniel.ben-david/Documents/data/Content Taxonomy 3.1.tsv\"\n",
    "taxonomy = pd.read_csv(taxonomy_path, sep=\"\\t\")\n",
    "taxonomy.columns = taxonomy.iloc[0]\n",
    "taxonomy = taxonomy.drop(taxonomy.index[0]).reset_index(drop=True)\n",
    "taxonomy_lines = [\n",
    "        f\"{row['Unique ID']}: {row['Name']} (Parent ID: {row['Parent']})\"\n",
    "        for _, row in taxonomy.iterrows()\n",
    "    ]"
   ]
  },
  {
   "cell_type": "code",
   "execution_count": 7,
   "id": "293e073a",
   "metadata": {},
   "outputs": [
    {
     "data": {
      "text/html": [
       "<div>\n",
       "<style scoped>\n",
       "    .dataframe tbody tr th:only-of-type {\n",
       "        vertical-align: middle;\n",
       "    }\n",
       "\n",
       "    .dataframe tbody tr th {\n",
       "        vertical-align: top;\n",
       "    }\n",
       "\n",
       "    .dataframe thead th {\n",
       "        text-align: right;\n",
       "    }\n",
       "</style>\n",
       "<table border=\"1\" class=\"dataframe\">\n",
       "  <thead>\n",
       "    <tr style=\"text-align: right;\">\n",
       "      <th></th>\n",
       "      <th>Unique ID</th>\n",
       "      <th>Parent</th>\n",
       "      <th>Name</th>\n",
       "      <th>Tier 1</th>\n",
       "      <th>Tier 2</th>\n",
       "      <th>Tier 3</th>\n",
       "      <th>Tier 4</th>\n",
       "      <th>NaN</th>\n",
       "    </tr>\n",
       "  </thead>\n",
       "  <tbody>\n",
       "    <tr>\n",
       "      <th>0</th>\n",
       "      <td>150</td>\n",
       "      <td>150</td>\n",
       "      <td>Attractions</td>\n",
       "      <td>Attractions</td>\n",
       "      <td>NaN</td>\n",
       "      <td>NaN</td>\n",
       "      <td>NaN</td>\n",
       "      <td>NaN</td>\n",
       "    </tr>\n",
       "    <tr>\n",
       "      <th>1</th>\n",
       "      <td>151</td>\n",
       "      <td>150</td>\n",
       "      <td>Amusement and Theme Parks</td>\n",
       "      <td>Attractions</td>\n",
       "      <td>Amusement and Theme Parks</td>\n",
       "      <td>NaN</td>\n",
       "      <td>NaN</td>\n",
       "      <td>NaN</td>\n",
       "    </tr>\n",
       "    <tr>\n",
       "      <th>2</th>\n",
       "      <td>179</td>\n",
       "      <td>150</td>\n",
       "      <td>Bars &amp; Restaurants</td>\n",
       "      <td>Attractions</td>\n",
       "      <td>Bars &amp; Restaurants</td>\n",
       "      <td>NaN</td>\n",
       "      <td>NaN</td>\n",
       "      <td>NaN</td>\n",
       "    </tr>\n",
       "    <tr>\n",
       "      <th>3</th>\n",
       "      <td>181</td>\n",
       "      <td>150</td>\n",
       "      <td>Casinos &amp; Gambling</td>\n",
       "      <td>Attractions</td>\n",
       "      <td>Casinos &amp; Gambling</td>\n",
       "      <td>NaN</td>\n",
       "      <td>NaN</td>\n",
       "      <td>NaN</td>\n",
       "    </tr>\n",
       "    <tr>\n",
       "      <th>4</th>\n",
       "      <td>153</td>\n",
       "      <td>150</td>\n",
       "      <td>Historic Site and Landmark Tours</td>\n",
       "      <td>Attractions</td>\n",
       "      <td>Historic Site and Landmark Tours</td>\n",
       "      <td>NaN</td>\n",
       "      <td>NaN</td>\n",
       "      <td>NaN</td>\n",
       "    </tr>\n",
       "    <tr>\n",
       "      <th>...</th>\n",
       "      <td>...</td>\n",
       "      <td>...</td>\n",
       "      <td>...</td>\n",
       "      <td>...</td>\n",
       "      <td>...</td>\n",
       "      <td>...</td>\n",
       "      <td>...</td>\n",
       "      <td>...</td>\n",
       "    </tr>\n",
       "    <tr>\n",
       "      <th>699</th>\n",
       "      <td>687</td>\n",
       "      <td>685</td>\n",
       "      <td>Role-Playing Video Games</td>\n",
       "      <td>Video Gaming</td>\n",
       "      <td>Video Game Genres</td>\n",
       "      <td>Role-Playing Video Games</td>\n",
       "      <td>NaN</td>\n",
       "      <td>NaN</td>\n",
       "    </tr>\n",
       "    <tr>\n",
       "      <th>700</th>\n",
       "      <td>688</td>\n",
       "      <td>685</td>\n",
       "      <td>Simulation Video Games</td>\n",
       "      <td>Video Gaming</td>\n",
       "      <td>Video Game Genres</td>\n",
       "      <td>Simulation Video Games</td>\n",
       "      <td>NaN</td>\n",
       "      <td>NaN</td>\n",
       "    </tr>\n",
       "    <tr>\n",
       "      <th>701</th>\n",
       "      <td>689</td>\n",
       "      <td>685</td>\n",
       "      <td>Sports Video Games</td>\n",
       "      <td>Video Gaming</td>\n",
       "      <td>Video Game Genres</td>\n",
       "      <td>Sports Video Games</td>\n",
       "      <td>NaN</td>\n",
       "      <td>NaN</td>\n",
       "    </tr>\n",
       "    <tr>\n",
       "      <th>702</th>\n",
       "      <td>690</td>\n",
       "      <td>685</td>\n",
       "      <td>Strategy Video Games</td>\n",
       "      <td>Video Gaming</td>\n",
       "      <td>Video Game Genres</td>\n",
       "      <td>Strategy Video Games</td>\n",
       "      <td>NaN</td>\n",
       "      <td>NaN</td>\n",
       "    </tr>\n",
       "    <tr>\n",
       "      <th>703</th>\n",
       "      <td>389</td>\n",
       "      <td>NaN</td>\n",
       "      <td>War and Conflicts</td>\n",
       "      <td>War and Conflicts</td>\n",
       "      <td>NaN</td>\n",
       "      <td>NaN</td>\n",
       "      <td>NaN</td>\n",
       "      <td>NaN</td>\n",
       "    </tr>\n",
       "  </tbody>\n",
       "</table>\n",
       "<p>704 rows × 8 columns</p>\n",
       "</div>"
      ],
      "text/plain": [
       "0   Unique ID Parent                              Name             Tier 1  \\\n",
       "0         150    150                       Attractions        Attractions   \n",
       "1         151    150         Amusement and Theme Parks        Attractions   \n",
       "2         179    150                Bars & Restaurants        Attractions   \n",
       "3         181    150                Casinos & Gambling        Attractions   \n",
       "4         153    150  Historic Site and Landmark Tours        Attractions   \n",
       "..        ...    ...                               ...                ...   \n",
       "699       687    685          Role-Playing Video Games       Video Gaming   \n",
       "700       688    685            Simulation Video Games       Video Gaming   \n",
       "701       689    685                Sports Video Games       Video Gaming   \n",
       "702       690    685              Strategy Video Games       Video Gaming   \n",
       "703       389    NaN                 War and Conflicts  War and Conflicts   \n",
       "\n",
       "0                              Tier 2                    Tier 3 Tier 4  NaN  \n",
       "0                                 NaN                       NaN    NaN  NaN  \n",
       "1           Amusement and Theme Parks                       NaN    NaN  NaN  \n",
       "2                  Bars & Restaurants                       NaN    NaN  NaN  \n",
       "3                  Casinos & Gambling                       NaN    NaN  NaN  \n",
       "4    Historic Site and Landmark Tours                       NaN    NaN  NaN  \n",
       "..                                ...                       ...    ...  ...  \n",
       "699                 Video Game Genres  Role-Playing Video Games    NaN  NaN  \n",
       "700                 Video Game Genres    Simulation Video Games    NaN  NaN  \n",
       "701                 Video Game Genres        Sports Video Games    NaN  NaN  \n",
       "702                 Video Game Genres      Strategy Video Games    NaN  NaN  \n",
       "703                               NaN                       NaN    NaN  NaN  \n",
       "\n",
       "[704 rows x 8 columns]"
      ]
     },
     "execution_count": 7,
     "metadata": {},
     "output_type": "execute_result"
    }
   ],
   "source": [
    "taxonomy"
   ]
  },
  {
   "cell_type": "markdown",
   "id": "da8f1f62",
   "metadata": {},
   "source": [
    "# Few-Shot Examples"
   ]
  },
  {
   "cell_type": "code",
   "execution_count": 74,
   "id": "12a454f5-2a21-4c42-8b27-0b8311fd5004",
   "metadata": {},
   "outputs": [],
   "source": [
    "few_shots_gpt = [\n",
    "        {\n",
    "            \"role\": \"user\",\n",
    "            \"content\": \"URL: https://www.bbc.com/news/technology-65091083\\n\\nContent: The article describes a significant cybersecurity incident involving a global tech company. Hackers gained access to user accounts and internal systems. The company is now working with authorities to address the breach.\"\n",
    "        },\n",
    "        {\n",
    "            \"role\": \"assistant\",\n",
    "            \"content\": \"Unique ID: 101\\nParent ID: 100\\nCategory Name: Information Security\\nExplanation: The article discusses a cyberattack, which falls directly under information security in the IAB taxonomy.\"\n",
    "        },\n",
    "        {\n",
    "            \"role\": \"user\",\n",
    "            \"content\": \"URL: https://www.espn.com/nba/story/_/id/34567890/lebron-james-leads-lakers-comeback\\n\\nContent: LeBron James led the Lakers to a comeback win over the Warriors in a critical playoff push. The game was marked by outstanding performances and fan engagement.\"\n",
    "        },\n",
    "        {\n",
    "            \"role\": \"assistant\",\n",
    "            \"content\": \"Unique ID: 202\\nParent ID: 200\\nCategory Name: Basketball\\nExplanation: The article covers a basketball game and a player's performance, which aligns with the Basketball category.\"\n",
    "        }\n",
    "    ]"
   ]
  },
  {
   "cell_type": "code",
   "execution_count": 75,
   "id": "7a66a8bd",
   "metadata": {},
   "outputs": [],
   "source": [
    "few_shots_url_gemini = \"\"\"\n",
    "                    Example 1:\n",
    "                    URL: https://www.bbc.com/news/technology-65091083\n",
    "\n",
    "                    Content: The article describes a significant cybersecurity incident involving a global tech company. Hackers gained access to user accounts and internal systems. The company is now working with authorities to address the breach.\n",
    "\n",
    "                    Answer:\n",
    "                    Unique ID: 101\n",
    "                    Parent ID: 100\n",
    "                    Category Name: Information Security\n",
    "                    Explanation: The article discusses a cyberattack, which falls under Information Security in the IAB taxonomy.\n",
    "\n",
    "                    ---\n",
    "\n",
    "                    Example 2:\n",
    "                    URL: https://www.espn.com/nba/story/_/id/34567890/lebron-james-leads-lakers-comeback\n",
    "\n",
    "                    Content: LeBron James led the Lakers to a comeback win over the Warriors in a critical playoff push. The game was marked by outstanding performances and fan engagement.\n",
    "\n",
    "                    Answer:\n",
    "                    Unique ID: 202\n",
    "                    Parent ID: 200\n",
    "                    Category Name: Basketball\n",
    "                    Explanation: This article is about an NBA basketball game, relevant to the Basketball category.\n",
    "                    \"\"\""
   ]
  },
  {
   "cell_type": "code",
   "execution_count": 77,
   "id": "1f5b2786",
   "metadata": {},
   "outputs": [],
   "source": [
    "few_shots_content_title_gemini = \"\"\"\n",
    "                                Example 1:\n",
    "                                Title: The Walking Dead\n",
    "\n",
    "                                Answer:\n",
    "                                Unique ID: 235\n",
    "                                Parent ID: 200\n",
    "                                Category Name: Horror and Suspense\n",
    "                                Explanation: The Walking Dead is a TV show set in a post-apocalyptic world with zombies, which fits the horror and suspense category.\n",
    "\n",
    "                                ---\n",
    "\n",
    "                                Example 2:\n",
    "                                Title: Top Gear\n",
    "\n",
    "                                Answer:\n",
    "                                Unique ID: 110\n",
    "                                Parent ID: 100\n",
    "                                Category Name: Automotive\n",
    "                                Explanation: Top Gear is a car-focused TV show, placing it under Automotive content.\n",
    "\n",
    "                                ---\n",
    "\n",
    "                                Example 3:\n",
    "                                Title: The Daily Show\n",
    "\n",
    "                                Answer:\n",
    "                                Unique ID: 304\n",
    "                                Parent ID: 300\n",
    "                                Category Name: Politics\n",
    "                                Explanation: The Daily Show is a satirical news show discussing political and current events, relevant to Politics.\n",
    "                                \"\"\""
   ]
  },
  {
   "cell_type": "markdown",
   "id": "168ce6c1-b19a-4f1c-aaf0-a6d414076c1b",
   "metadata": {},
   "source": [
    "# Functions"
   ]
  },
  {
   "cell_type": "code",
   "execution_count": 51,
   "id": "ce2e97ce-b00c-4e95-b699-ff76a3b78dea",
   "metadata": {},
   "outputs": [],
   "source": [
    "def fetch_article_text(url):\n",
    "    try:\n",
    "        response = requests.get(url, timeout=10)\n",
    "        response.raise_for_status()\n",
    "        soup = BeautifulSoup(response.text, \"html.parser\")\n",
    "\n",
    "        # Try to extract meaningful content\n",
    "        paragraphs = soup.find_all(\"p\")\n",
    "        text = \"\\n\".join(p.get_text() for p in paragraphs)\n",
    "        return text.strip()\n",
    "    except Exception as e:\n",
    "        print(f\"Error fetching article: {e}\")\n",
    "        return None"
   ]
  },
  {
   "cell_type": "code",
   "execution_count": 52,
   "id": "6ab0d352-4292-420e-bca6-6322172a5f8a",
   "metadata": {},
   "outputs": [],
   "source": [
    "def classify_with_gpt(url,taxonomy_str):\n",
    "    article_text = fetch_article_text(url)\n",
    "    if not article_text:\n",
    "        return \"Could not retrieve article content.\"\n",
    "\n",
    "    messages = [\n",
    "        {\"role\": \"system\", \"content\": SYSTEM_PROMPT},\n",
    "        *FEW_SHOTS,\n",
    "        {\"role\": \"user\", \"content\": f\"URL: {url}\\n\\nContent:\\n{article_text[:2000]}\"}  # Trim to stay within context length\n",
    "    ]\n",
    "\n",
    "    response = client.chat.completions.create(\n",
    "        model=\"gpt-3.5-turbo\",\n",
    "        messages=messages,\n",
    "        temperature=0.1\n",
    "    )\n",
    "    return response.choices[0].message[\"content\"]\n",
    "# result = classify_with_gpt(test_url, taxonomy_lines)"
   ]
  },
  {
   "cell_type": "code",
   "execution_count": 102,
   "id": "5a46193c",
   "metadata": {},
   "outputs": [],
   "source": [
    "def classify_url_with_gemini(url, taxonomy_lines):\n",
    "    article_text = fetch_article_text(url)\n",
    "    if not article_text:\n",
    "        return \"Could not retrieve article content.\"\n",
    "    SYSTEM_PROMPT = f\"\"\" You are a content classification expert using the IAB Content Taxonomy 3.1.\n",
    "                Given the content of a web page, your task is to analyze the content and assign the most relevant category using the taxonomy below.\n",
    "                Respond with:\n",
    "                1. Unique ID\n",
    "                2. Parent ID\n",
    "                3. Category Name\n",
    "                4. A short explanation of why this page is associated with the chosen category.\n",
    "\n",
    "                Only use the categories from the list below:\n",
    "                {taxonomy_lines[:704]}\n",
    "                ---\n",
    "                {few_shots_url_gemini}\n",
    "                Now classify the following article:\n",
    "\n",
    "                URL: {url}\n",
    "\n",
    "                Content:\n",
    "                {article_text[:3000]}\n",
    "                \"\"\"\n",
    "\n",
    "    response = model.generate_content(SYSTEM_PROMPT)\n",
    "    return response.text\n"
   ]
  },
  {
   "cell_type": "code",
   "execution_count": 79,
   "id": "95e59a8c",
   "metadata": {},
   "outputs": [],
   "source": [
    "def classify_content_title_with_gemini(title, taxonomy_lines):\n",
    "    SYSTEM_PROMPT = f\"\"\"\n",
    "                You are a content classification expert using the IAB Content Taxonomy 3.1.\n",
    "\n",
    "                Your task is to classify a piece of media content based **only** on its title (e.g., a movie or TV show name). You should:\n",
    "\n",
    "                1. Identify the **likely subject matter** and **genre** of the title based on cultural and entertainment knowledge.\n",
    "                2. Use your understanding of popular TV shows, films, and trends.\n",
    "                3. Assume the title refers to a well-known show/movie unless stated otherwise.\n",
    "                4. If the title is obscure or ambiguous, classifiy it as unknown. DO NOT ASSING IDs in the response if the likelihood is very low. Please provide in such cases the explantion inside the proper filed.\n",
    "                5. Use the IAB Content Taxonomy to assign the **most appropriate category**.\n",
    "\n",
    "                Respond in this format:\n",
    "\n",
    "                Unique ID: <from taxonomy>\n",
    "                Parent ID: <from taxonomy>\n",
    "                Category Name: <exact name from taxonomy>\n",
    "                Explanation: <why this category fits based on the title alone>\n",
    "\n",
    "                Only use the categories from the list below:\n",
    "                {taxonomy_lines[:704]}\n",
    "                ---\n",
    "                {few_shots_content_title_gemini}\n",
    "                Now classify the following title:\n",
    "\n",
    "                Title: {title}\n",
    "                \"\"\"\n",
    "\n",
    "    response = model.generate_content(SYSTEM_PROMPT)\n",
    "    return response.text\n"
   ]
  },
  {
   "cell_type": "markdown",
   "id": "d4e660d6",
   "metadata": {},
   "source": [
    "# URL"
   ]
  },
  {
   "cell_type": "code",
   "execution_count": 103,
   "id": "d3d83e96-2c8a-4654-945e-a54c94c101ed",
   "metadata": {},
   "outputs": [],
   "source": [
    "url = \"https://play.google.com/store/apps/details?id=tv.atmosphere.atmospheretv&hl=en_US\""
   ]
  },
  {
   "cell_type": "code",
   "execution_count": 104,
   "id": "35cde867-e147-4fca-809d-af78e3d69ed8",
   "metadata": {
    "scrolled": true
   },
   "outputs": [],
   "source": [
    "result = classify_url_with_gemini(url, taxonomy_lines)"
   ]
  },
  {
   "cell_type": "code",
   "execution_count": 105,
   "id": "e5ce16fd",
   "metadata": {},
   "outputs": [
    {
     "name": "stdout",
     "output_type": "stream",
     "text": [
      "Here's the classification of the provided content based on the IAB Content Taxonomy 3.1:\n",
      "\n",
      "1.  Unique ID: 602\n",
      "2.  Parent ID: 599\n",
      "3.  Category Name: Software and Applications\n",
      "4.  Explanation: The content is a listing of information, terms, and services for Google Play, which distributes software applications.\n",
      "\n"
     ]
    }
   ],
   "source": [
    "print(result)"
   ]
  },
  {
   "cell_type": "markdown",
   "id": "09f64b44",
   "metadata": {},
   "source": [
    "# TITLE"
   ]
  },
  {
   "cell_type": "code",
   "execution_count": 95,
   "id": "dc01f76b",
   "metadata": {},
   "outputs": [],
   "source": [
    "title = \"Donnie Darko\""
   ]
  },
  {
   "cell_type": "code",
   "execution_count": 96,
   "id": "796095af",
   "metadata": {},
   "outputs": [],
   "source": [
    "result = classify_content_title_with_gemini(title, taxonomy_lines)"
   ]
  },
  {
   "cell_type": "code",
   "execution_count": 97,
   "id": "575b0202",
   "metadata": {},
   "outputs": [
    {
     "name": "stdout",
     "output_type": "stream",
     "text": [
      "Unique ID: 331\n",
      "Parent ID: SPSHQ5\n",
      "Category Name: Mystery\n",
      "Explanation: \"Donnie Darko\" is a film known for its complex and enigmatic plot, involving time travel and philosophical questions, which aligns with the Mystery genre.\n",
      "\n"
     ]
    }
   ],
   "source": [
    "print(result)"
   ]
  }
 ],
 "metadata": {
  "kernelspec": {
   "display_name": "base",
   "language": "python",
   "name": "python3"
  },
  "language_info": {
   "codemirror_mode": {
    "name": "ipython",
    "version": 3
   },
   "file_extension": ".py",
   "mimetype": "text/x-python",
   "name": "python",
   "nbconvert_exporter": "python",
   "pygments_lexer": "ipython3",
   "version": "3.12.2"
  }
 },
 "nbformat": 4,
 "nbformat_minor": 5
}
